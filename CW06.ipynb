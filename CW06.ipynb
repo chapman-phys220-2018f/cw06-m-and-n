{
 "cells": [
  {
   "cell_type": "code",
   "execution_count": 2,
   "metadata": {
    "collapsed": false
   },
   "outputs": [
   ],
   "source": [
    "import elementary as e"
   ]
  },
  {
   "cell_type": "code",
   "execution_count": 3,
   "metadata": {
    "collapsed": false
   },
   "outputs": [
   ],
   "source": [
    "# Basic plotting defaults\n",
    "import matplotlib.pyplot as plt\n",
    "%matplotlib inline\n",
    "# Use better color defaults\n",
    "plt.style.use(\"seaborn-pastel\")"
   ]
  },
  {
   "cell_type": "markdown",
   "metadata": {
    "collapsed": false
   },
   "source": [
    "# CW06 \n",
    "\n",
    "#### Enea Dodi, Monica Hiemer, Natanael\n",
    "\n",
    "##### 10/10/2018"
   ]
  },
  {
   "cell_type": "markdown",
   "metadata": {
    "collapsed": false
   },
   "source": [
    "## Instructions\n",
    "\n",
    "* create 1 generic Particle instance, 1 Electron instance, and 1 Proton instance. \n",
    "* show that each has different mass.\n",
    "* Give each particle an initial momentum of $\\vec{p}_0 = (10,\\text{kg m/s}),\\hat{k} \\sim (0,,0,,10),\\text{kg m/s}$ (straight up).\n",
    "* Start the initial positions at $\\vec{r}_0 \\sim (0,,0,,1)\\text{m}$, $(0,,0,,2)\\text{m}$, and $(0,,0,,3)\\text{m}$, respectively, where $\\vec{r} \\sim (x,,y,,z)$.\n",
    "* create a plot that shows the $z$ coordinate of each particle plotted as a function of time, $z(t)$, after placing each particle in a gravitational field $\\vec{g}$. \n",
    "* For each time step dt,apply an impulse $d\\vec{p}$ to each particle from the gravitational field, then apply the .move(dt) method and store the new $z$ coordinate of each particle.\n",
    "* After you have accumulated $5$ seconds worth of time steps, plot each particle trajectory $z(t)$ on the same graph. \n",
    "* Comment about your findings regarding how electrons, protons, and generic particles all move in a gravitational field."
   ]
  },
  {
   "cell_type": "code",
   "execution_count": 0,
   "metadata": {
    "collapsed": false
   },
   "outputs": [
   ],
   "source": [
   ]
  }
 ],
 "metadata": {
  "kernelspec": {
   "display_name": "Python 3 (Anaconda 5)",
   "language": "python",
   "name": "anaconda5"
  }
 },
 "nbformat": 4,
 "nbformat_minor": 0
}